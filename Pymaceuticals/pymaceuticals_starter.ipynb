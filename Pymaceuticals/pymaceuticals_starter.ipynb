{
 "cells": [
  {
   "cell_type": "markdown",
   "metadata": {},
   "source": [
    "## Observations and Insights "
   ]
  },
  {
   "cell_type": "markdown",
   "metadata": {},
   "source": []
  },
  {
   "cell_type": "code",
   "execution_count": 185,
   "metadata": {
    "scrolled": true
   },
   "outputs": [
    {
     "name": "stdout",
     "output_type": "stream",
     "text": [
      "Index(['Mouse ID', 'Drug Regimen', 'Sex', 'Age_months', 'Weight (g)'], dtype='object')\n",
      "Index(['Mouse ID', 'Timepoint', 'Tumor Volume (mm3)', 'Metastatic Sites'], dtype='object')\n"
     ]
    },
    {
     "data": {
      "text/html": [
       "<div>\n",
       "<style>\n",
       "    .dataframe thead tr:only-child th {\n",
       "        text-align: right;\n",
       "    }\n",
       "\n",
       "    .dataframe thead th {\n",
       "        text-align: left;\n",
       "    }\n",
       "\n",
       "    .dataframe tbody tr th {\n",
       "        vertical-align: top;\n",
       "    }\n",
       "</style>\n",
       "<table border=\"1\" class=\"dataframe\">\n",
       "  <thead>\n",
       "    <tr style=\"text-align: right;\">\n",
       "      <th></th>\n",
       "      <th>Mouse ID</th>\n",
       "      <th>Drug Regimen</th>\n",
       "      <th>Sex</th>\n",
       "      <th>Age_months</th>\n",
       "      <th>Weight (g)</th>\n",
       "      <th>Timepoint</th>\n",
       "      <th>Tumor Volume (mm3)</th>\n",
       "      <th>Metastatic Sites</th>\n",
       "    </tr>\n",
       "  </thead>\n",
       "  <tbody>\n",
       "    <tr>\n",
       "      <th>0</th>\n",
       "      <td>k403</td>\n",
       "      <td>Ramicane</td>\n",
       "      <td>Male</td>\n",
       "      <td>21</td>\n",
       "      <td>16</td>\n",
       "      <td>0</td>\n",
       "      <td>45.000000</td>\n",
       "      <td>0</td>\n",
       "    </tr>\n",
       "    <tr>\n",
       "      <th>1</th>\n",
       "      <td>k403</td>\n",
       "      <td>Ramicane</td>\n",
       "      <td>Male</td>\n",
       "      <td>21</td>\n",
       "      <td>16</td>\n",
       "      <td>5</td>\n",
       "      <td>38.825898</td>\n",
       "      <td>0</td>\n",
       "    </tr>\n",
       "    <tr>\n",
       "      <th>2</th>\n",
       "      <td>k403</td>\n",
       "      <td>Ramicane</td>\n",
       "      <td>Male</td>\n",
       "      <td>21</td>\n",
       "      <td>16</td>\n",
       "      <td>10</td>\n",
       "      <td>35.014271</td>\n",
       "      <td>1</td>\n",
       "    </tr>\n",
       "    <tr>\n",
       "      <th>3</th>\n",
       "      <td>k403</td>\n",
       "      <td>Ramicane</td>\n",
       "      <td>Male</td>\n",
       "      <td>21</td>\n",
       "      <td>16</td>\n",
       "      <td>15</td>\n",
       "      <td>34.223992</td>\n",
       "      <td>1</td>\n",
       "    </tr>\n",
       "    <tr>\n",
       "      <th>4</th>\n",
       "      <td>k403</td>\n",
       "      <td>Ramicane</td>\n",
       "      <td>Male</td>\n",
       "      <td>21</td>\n",
       "      <td>16</td>\n",
       "      <td>20</td>\n",
       "      <td>32.997729</td>\n",
       "      <td>1</td>\n",
       "    </tr>\n",
       "  </tbody>\n",
       "</table>\n",
       "</div>"
      ],
      "text/plain": [
       "  Mouse ID Drug Regimen   Sex  Age_months  Weight (g)  Timepoint  \\\n",
       "0     k403     Ramicane  Male          21          16          0   \n",
       "1     k403     Ramicane  Male          21          16          5   \n",
       "2     k403     Ramicane  Male          21          16         10   \n",
       "3     k403     Ramicane  Male          21          16         15   \n",
       "4     k403     Ramicane  Male          21          16         20   \n",
       "\n",
       "   Tumor Volume (mm3)  Metastatic Sites  \n",
       "0           45.000000                 0  \n",
       "1           38.825898                 0  \n",
       "2           35.014271                 1  \n",
       "3           34.223992                 1  \n",
       "4           32.997729                 1  "
      ]
     },
     "execution_count": 185,
     "metadata": {},
     "output_type": "execute_result"
    }
   ],
   "source": [
    "# Dependencies and Setup\n",
    "import matplotlib.pyplot as plt\n",
    "import pandas as pd\n",
    "import scipy.stats as st\n",
    "import numpy as np\n",
    "from scipy.stats.stats import pearsonr\n",
    "from scipy import stats\n",
    "\n",
    "# Study data files\n",
    "mouse_metadata_path = \"data/Mouse_metadata.csv\"\n",
    "study_results_path = \"data/Study_results.csv\"\n",
    "\n",
    "# Read the mouse data and the study results\n",
    "mouse_metadata = pd.read_csv(mouse_metadata_path)\n",
    "study_results = pd.read_csv(study_results_path)\n",
    "\n",
    "\n",
    "#Identify the appropriate columns to see what columns are the same\n",
    "print(mouse_metadata.columns)\n",
    "print(study_results.columns)\n",
    "\n",
    "# Combine the data into a single dataset\n",
    "merged_Data = pd.merge(left=mouse_metadata, right=study_results, left_on=\"Mouse ID\", right_on=\"Mouse ID\")\n",
    "\n",
    "\n",
    "# Display the data table for preview\n",
    "merged_Data.head()"
   ]
  },
  {
   "cell_type": "code",
   "execution_count": 186,
   "metadata": {},
   "outputs": [
    {
     "data": {
      "text/html": [
       "<div>\n",
       "<style>\n",
       "    .dataframe thead tr:only-child th {\n",
       "        text-align: right;\n",
       "    }\n",
       "\n",
       "    .dataframe thead th {\n",
       "        text-align: left;\n",
       "    }\n",
       "\n",
       "    .dataframe tbody tr th {\n",
       "        vertical-align: top;\n",
       "    }\n",
       "</style>\n",
       "<table border=\"1\" class=\"dataframe\">\n",
       "  <thead>\n",
       "    <tr style=\"text-align: right;\">\n",
       "      <th></th>\n",
       "      <th>Number of Mice</th>\n",
       "    </tr>\n",
       "  </thead>\n",
       "  <tbody>\n",
       "    <tr>\n",
       "      <th>0</th>\n",
       "      <td>249</td>\n",
       "    </tr>\n",
       "  </tbody>\n",
       "</table>\n",
       "</div>"
      ],
      "text/plain": [
       "   Number of Mice\n",
       "0             249"
      ]
     },
     "execution_count": 186,
     "metadata": {},
     "output_type": "execute_result"
    }
   ],
   "source": [
    "# Checking the number of mice.\n",
    "unique_count_mouse = len(merged_Data[\"Mouse ID\"].unique())\n",
    "\n",
    "data = {'Number of Mice': [unique_count_mouse]}\n",
    "\n",
    "unique_count_mouse_df = pd.DataFrame(data, columns =[\"Number of Mice\"])\n",
    "unique_count_mouse_df"
   ]
  },
  {
   "cell_type": "code",
   "execution_count": 187,
   "metadata": {},
   "outputs": [
    {
     "data": {
      "text/plain": [
       "j989    10\n",
       "c402    10\n",
       "k210    10\n",
       "w914    10\n",
       "i635    10\n",
       "z578    10\n",
       "n364    10\n",
       "a203    10\n",
       "a251    10\n",
       "r604    10\n",
       "e476    10\n",
       "a492    10\n",
       "y769    10\n",
       "y865    10\n",
       "e227    10\n",
       "c757    10\n",
       "z969    10\n",
       "l700    10\n",
       "w151    10\n",
       "m957    10\n",
       "y793    10\n",
       "j365    10\n",
       "m650    10\n",
       "s565    10\n",
       "j296    10\n",
       "i901    10\n",
       "o287    10\n",
       "c559    10\n",
       "a699    10\n",
       "a444    10\n",
       "        ..\n",
       "w150     3\n",
       "v989     3\n",
       "s166     3\n",
       "o813     2\n",
       "f394     2\n",
       "z314     2\n",
       "w678     2\n",
       "z234     2\n",
       "v339     2\n",
       "w140     2\n",
       "n630     2\n",
       "c326     2\n",
       "s619     2\n",
       "y601     2\n",
       "m756     2\n",
       "h531     2\n",
       "w746     2\n",
       "f278     2\n",
       "d133     1\n",
       "b447     1\n",
       "o848     1\n",
       "t573     1\n",
       "v199     1\n",
       "l872     1\n",
       "u153     1\n",
       "f932     1\n",
       "n482     1\n",
       "x336     1\n",
       "h428     1\n",
       "x226     1\n",
       "Name: Mouse ID, Length: 249, dtype: int64"
      ]
     },
     "execution_count": 187,
     "metadata": {},
     "output_type": "execute_result"
    }
   ],
   "source": [
    "# Getting the duplicate mice by ID number that shows up for Mouse ID and Timepoint. \n",
    "merged_Data[\"Mouse ID\"].value_counts()\n",
    "\n",
    "#clean_merged_data=merged_Data.sort_values(\"Timepoint\").drop_duplicates(['Mouse ID'], keep='last')\n",
    "#clean_merged_data[\"Mouse ID\"].value_counts()\n",
    "\n",
    "clean_merge_data=merged_Data.drop_duplicates(subset=[\"Mouse ID\", \"Timepoint\"])\n",
    "clean_merge_data[\"Mouse ID\"].value_counts()"
   ]
  },
  {
   "cell_type": "code",
   "execution_count": 188,
   "metadata": {},
   "outputs": [],
   "source": [
    "# Optional: Get all the data for the duplicate mouse ID. \n"
   ]
  },
  {
   "cell_type": "code",
   "execution_count": 189,
   "metadata": {
    "scrolled": false
   },
   "outputs": [
    {
     "data": {
      "text/html": [
       "<div>\n",
       "<style>\n",
       "    .dataframe thead tr:only-child th {\n",
       "        text-align: right;\n",
       "    }\n",
       "\n",
       "    .dataframe thead th {\n",
       "        text-align: left;\n",
       "    }\n",
       "\n",
       "    .dataframe tbody tr th {\n",
       "        vertical-align: top;\n",
       "    }\n",
       "</style>\n",
       "<table border=\"1\" class=\"dataframe\">\n",
       "  <thead>\n",
       "    <tr style=\"text-align: right;\">\n",
       "      <th></th>\n",
       "      <th>Mouse ID</th>\n",
       "      <th>Drug Regimen</th>\n",
       "      <th>Sex</th>\n",
       "      <th>Age_months</th>\n",
       "      <th>Weight (g)</th>\n",
       "      <th>Timepoint</th>\n",
       "      <th>Tumor Volume (mm3)</th>\n",
       "      <th>Metastatic Sites</th>\n",
       "    </tr>\n",
       "  </thead>\n",
       "  <tbody>\n",
       "    <tr>\n",
       "      <th>0</th>\n",
       "      <td>k403</td>\n",
       "      <td>Ramicane</td>\n",
       "      <td>Male</td>\n",
       "      <td>21</td>\n",
       "      <td>16</td>\n",
       "      <td>0</td>\n",
       "      <td>45.000000</td>\n",
       "      <td>0</td>\n",
       "    </tr>\n",
       "    <tr>\n",
       "      <th>1</th>\n",
       "      <td>k403</td>\n",
       "      <td>Ramicane</td>\n",
       "      <td>Male</td>\n",
       "      <td>21</td>\n",
       "      <td>16</td>\n",
       "      <td>5</td>\n",
       "      <td>38.825898</td>\n",
       "      <td>0</td>\n",
       "    </tr>\n",
       "    <tr>\n",
       "      <th>2</th>\n",
       "      <td>k403</td>\n",
       "      <td>Ramicane</td>\n",
       "      <td>Male</td>\n",
       "      <td>21</td>\n",
       "      <td>16</td>\n",
       "      <td>10</td>\n",
       "      <td>35.014271</td>\n",
       "      <td>1</td>\n",
       "    </tr>\n",
       "    <tr>\n",
       "      <th>3</th>\n",
       "      <td>k403</td>\n",
       "      <td>Ramicane</td>\n",
       "      <td>Male</td>\n",
       "      <td>21</td>\n",
       "      <td>16</td>\n",
       "      <td>15</td>\n",
       "      <td>34.223992</td>\n",
       "      <td>1</td>\n",
       "    </tr>\n",
       "    <tr>\n",
       "      <th>4</th>\n",
       "      <td>k403</td>\n",
       "      <td>Ramicane</td>\n",
       "      <td>Male</td>\n",
       "      <td>21</td>\n",
       "      <td>16</td>\n",
       "      <td>20</td>\n",
       "      <td>32.997729</td>\n",
       "      <td>1</td>\n",
       "    </tr>\n",
       "  </tbody>\n",
       "</table>\n",
       "</div>"
      ],
      "text/plain": [
       "  Mouse ID Drug Regimen   Sex  Age_months  Weight (g)  Timepoint  \\\n",
       "0     k403     Ramicane  Male          21          16          0   \n",
       "1     k403     Ramicane  Male          21          16          5   \n",
       "2     k403     Ramicane  Male          21          16         10   \n",
       "3     k403     Ramicane  Male          21          16         15   \n",
       "4     k403     Ramicane  Male          21          16         20   \n",
       "\n",
       "   Tumor Volume (mm3)  Metastatic Sites  \n",
       "0           45.000000                 0  \n",
       "1           38.825898                 0  \n",
       "2           35.014271                 1  \n",
       "3           34.223992                 1  \n",
       "4           32.997729                 1  "
      ]
     },
     "execution_count": 189,
     "metadata": {},
     "output_type": "execute_result"
    }
   ],
   "source": [
    "# Create a clean DataFrame by dropping the duplicate mouse by its ID.\n",
    "#clean_merge_data1 = clean_merged_data.drop_duplicates(subset=[\"Mouse ID\"])\n",
    "clean_merge_data.head()"
   ]
  },
  {
   "cell_type": "code",
   "execution_count": 190,
   "metadata": {},
   "outputs": [
    {
     "data": {
      "text/plain": [
       "1888"
      ]
     },
     "execution_count": 190,
     "metadata": {},
     "output_type": "execute_result"
    }
   ],
   "source": [
    "# Checking the number of mice in the clean DataFrame.\n",
    "new_number_of_mice = len(clean_merge_data[\"Mouse ID\"])\n",
    "new_number_of_mice"
   ]
  },
  {
   "cell_type": "markdown",
   "metadata": {},
   "source": [
    "## Summary Statistics"
   ]
  },
  {
   "cell_type": "code",
   "execution_count": 191,
   "metadata": {},
   "outputs": [],
   "source": [
    "# Generate a summary statistics table of mean, median, variance, standard deviation, and SEM of the tumor volume for each regimen\n",
    "# This method is the most straighforward, creating multiple series and putting them all together at the end\n",
    "\n",
    "#data_mean = clean_merge_data.groupby('Drug Regimen')['Tumor Volume (mm3)'].mean()\n",
    "#data_median = clean_merge_data.groupby('Drug Regimen')['Tumor Volume (mm3)'].median()\n",
    "#data_variance = clean_merge_data.groupby('Drug Regimen')['Tumor Volume (mm3)'].var()\n",
    "#data_standard_deviation = clean_merge_data.groupby('Drug Regimen')['Tumor Volume (mm3)'].std()\n",
    "#data_sem = clean_merge_data.groupby('Drug Regimen')['Tumor Volume (mm3)'].sem()\n",
    "\n",
    "#drug_regimen_array = clean_merge_data[\"Mouse ID\"].unique()\n",
    "#print(drug_regimen_array)\n",
    "#series_array = [drug_regimen_array, data_mean, data_median, data_variance, data_standard_deviation, data_sem]\n",
    "\n",
    "#index = pd.MultiIndex.from_arrays(drug_regimen_array, names = ('Drug Regimen'))\n",
    "\n",
    "#mean = pd.Series(data_mean, index=drug_regimen_array, name=\"Mean)\"\n",
    "#mean\n"
   ]
  },
  {
   "cell_type": "code",
   "execution_count": 192,
   "metadata": {},
   "outputs": [
    {
     "data": {
      "text/html": [
       "<div>\n",
       "<style>\n",
       "    .dataframe thead tr:only-child th {\n",
       "        text-align: right;\n",
       "    }\n",
       "\n",
       "    .dataframe thead th {\n",
       "        text-align: left;\n",
       "    }\n",
       "\n",
       "    .dataframe tbody tr th {\n",
       "        vertical-align: top;\n",
       "    }\n",
       "</style>\n",
       "<table border=\"1\" class=\"dataframe\">\n",
       "  <thead>\n",
       "    <tr style=\"text-align: right;\">\n",
       "      <th></th>\n",
       "      <th>Mean</th>\n",
       "      <th>Median</th>\n",
       "      <th>Variance</th>\n",
       "      <th>Standard Deviation</th>\n",
       "      <th>SEM</th>\n",
       "    </tr>\n",
       "    <tr>\n",
       "      <th>Drug Regimen</th>\n",
       "      <th></th>\n",
       "      <th></th>\n",
       "      <th></th>\n",
       "      <th></th>\n",
       "      <th></th>\n",
       "    </tr>\n",
       "  </thead>\n",
       "  <tbody>\n",
       "    <tr>\n",
       "      <th>Capomulin</th>\n",
       "      <td>40.675741</td>\n",
       "      <td>41.557809</td>\n",
       "      <td>24.947764</td>\n",
       "      <td>4.994774</td>\n",
       "      <td>0.329346</td>\n",
       "    </tr>\n",
       "    <tr>\n",
       "      <th>Ceftamin</th>\n",
       "      <td>52.591172</td>\n",
       "      <td>51.776157</td>\n",
       "      <td>39.290177</td>\n",
       "      <td>6.268188</td>\n",
       "      <td>0.469821</td>\n",
       "    </tr>\n",
       "    <tr>\n",
       "      <th>Infubinol</th>\n",
       "      <td>52.884795</td>\n",
       "      <td>51.820584</td>\n",
       "      <td>43.128684</td>\n",
       "      <td>6.567243</td>\n",
       "      <td>0.492236</td>\n",
       "    </tr>\n",
       "    <tr>\n",
       "      <th>Ketapril</th>\n",
       "      <td>55.235638</td>\n",
       "      <td>53.698743</td>\n",
       "      <td>68.553577</td>\n",
       "      <td>8.279709</td>\n",
       "      <td>0.603860</td>\n",
       "    </tr>\n",
       "    <tr>\n",
       "      <th>Naftisol</th>\n",
       "      <td>54.331565</td>\n",
       "      <td>52.509285</td>\n",
       "      <td>66.173479</td>\n",
       "      <td>8.134708</td>\n",
       "      <td>0.596466</td>\n",
       "    </tr>\n",
       "    <tr>\n",
       "      <th>Placebo</th>\n",
       "      <td>54.033581</td>\n",
       "      <td>52.288934</td>\n",
       "      <td>61.168083</td>\n",
       "      <td>7.821003</td>\n",
       "      <td>0.581331</td>\n",
       "    </tr>\n",
       "    <tr>\n",
       "      <th>Propriva</th>\n",
       "      <td>52.393463</td>\n",
       "      <td>50.909965</td>\n",
       "      <td>43.138803</td>\n",
       "      <td>6.568014</td>\n",
       "      <td>0.525862</td>\n",
       "    </tr>\n",
       "    <tr>\n",
       "      <th>Ramicane</th>\n",
       "      <td>40.216745</td>\n",
       "      <td>40.673236</td>\n",
       "      <td>23.486704</td>\n",
       "      <td>4.846308</td>\n",
       "      <td>0.320955</td>\n",
       "    </tr>\n",
       "    <tr>\n",
       "      <th>Stelasyn</th>\n",
       "      <td>54.233149</td>\n",
       "      <td>52.431737</td>\n",
       "      <td>59.450562</td>\n",
       "      <td>7.710419</td>\n",
       "      <td>0.573111</td>\n",
       "    </tr>\n",
       "    <tr>\n",
       "      <th>Zoniferol</th>\n",
       "      <td>53.236507</td>\n",
       "      <td>51.818479</td>\n",
       "      <td>48.533355</td>\n",
       "      <td>6.966589</td>\n",
       "      <td>0.516398</td>\n",
       "    </tr>\n",
       "  </tbody>\n",
       "</table>\n",
       "</div>"
      ],
      "text/plain": [
       "                   Mean     Median   Variance  Standard Deviation       SEM\n",
       "Drug Regimen                                                               \n",
       "Capomulin     40.675741  41.557809  24.947764            4.994774  0.329346\n",
       "Ceftamin      52.591172  51.776157  39.290177            6.268188  0.469821\n",
       "Infubinol     52.884795  51.820584  43.128684            6.567243  0.492236\n",
       "Ketapril      55.235638  53.698743  68.553577            8.279709  0.603860\n",
       "Naftisol      54.331565  52.509285  66.173479            8.134708  0.596466\n",
       "Placebo       54.033581  52.288934  61.168083            7.821003  0.581331\n",
       "Propriva      52.393463  50.909965  43.138803            6.568014  0.525862\n",
       "Ramicane      40.216745  40.673236  23.486704            4.846308  0.320955\n",
       "Stelasyn      54.233149  52.431737  59.450562            7.710419  0.573111\n",
       "Zoniferol     53.236507  51.818479  48.533355            6.966589  0.516398"
      ]
     },
     "execution_count": 192,
     "metadata": {},
     "output_type": "execute_result"
    }
   ],
   "source": [
    "# Generate a summary statistics table of mean, median, variance, standard deviation, and SEM of the tumor volume for each regimen\n",
    "# This method produces everything in a single groupby function\n",
    "\n",
    "data_mean = clean_merge_data.groupby('Drug Regimen')['Tumor Volume (mm3)'].mean()\n",
    "data_median = clean_merge_data.groupby('Drug Regimen')['Tumor Volume (mm3)'].median()\n",
    "data_variance = clean_merge_data.groupby('Drug Regimen')['Tumor Volume (mm3)'].var()\n",
    "data_standard_deviation = clean_merge_data.groupby('Drug Regimen')['Tumor Volume (mm3)'].std()\n",
    "data_sem = clean_merge_data.groupby('Drug Regimen')['Tumor Volume (mm3)'].sem()\n",
    "\n",
    "data = {\n",
    "    'Mean': data_mean,\n",
    "    'Median': data_median,\n",
    "    'Variance': data_variance,\n",
    "    'Standard Deviation': data_standard_deviation,\n",
    "    'SEM': data_sem\n",
    "}\n",
    "\n",
    "summary_statistics = pd.DataFrame(data, columns = [\"Mean\", \"Median\", \"Variance\", \"Standard Deviation\", \"SEM\"])\n",
    "summary_statistics\n"
   ]
  },
  {
   "cell_type": "markdown",
   "metadata": {},
   "source": [
    "## Bar and Pie Charts"
   ]
  },
  {
   "cell_type": "code",
   "execution_count": 193,
   "metadata": {},
   "outputs": [
    {
     "data": {
      "image/png": "[encoded data removed]",
      "text/plain": [
       "<Figure size 432x288 with 1 Axes>"
      ]
     },
     "metadata": {},
     "output_type": "display_data"
    }
   ],
   "source": [
    "# Generate a bar plot showing the total number of mice for each treatment throughout the course of the study using pandas. \n",
    "\n",
    "#create a new dataframe including the drug regimen -> get count and then reset index3\n",
    "bar_graph = clean_merge_data.groupby([\"Drug Regimen\"]).count()[\"Mouse ID\"]\n",
    "bar_graph.plot(kind='bar')\n",
    "plt.title(\"No. of Mice for per treatment\")\n",
    "plt.ylabel(\"No. of Unique Mice Tested\")\n",
    "plt.show()\n",
    "\n"
   ]
  },
  {
   "cell_type": "code",
   "execution_count": 194,
   "metadata": {},
   "outputs": [
    {
     "data": {
      "image/png": "[encoded data removed]",
      "text/plain": [
       "<Figure size 720x360 with 1 Axes>"
      ]
     },
     "metadata": {},
     "output_type": "display_data"
    }
   ],
   "source": [
    "# Generate a bar plot showing the total number of mice for each treatment throughout the course of the study using pyplot.\n",
    "\n",
    "#get drug names -> list\n",
    "drug_names = summary_statistics.index.tolist()\n",
    "drug_names\n",
    "\n",
    "#get test_subject_count ->list\n",
    "test_subject_count = (clean_merge_data.groupby([\"Drug Regimen\"])[\"Mouse ID\"].count()).tolist()\n",
    "test_subject_count\n",
    "\n",
    "#set x-axis = drug names <- use numpy.arange to help space the xaxis https://numpy.org/doc/stable/reference/generated/numpy.arange.html\n",
    "xaxis = np.arange(len(test_subject_count))\n",
    "xaxis = drug_names\n",
    "\n",
    "xaxis\n",
    "#create the graph\n",
    "plt.figure(figsize=(len(xaxis),5))\n",
    "plt.bar(xaxis, test_subject_count)\n",
    "\n",
    "plt.title(\"Total number of mice per treatment\")\n",
    "plt.xlabel(\"Drug Regimen\")\n",
    "plt.ylabel(\"Test Subject Count\")\n",
    "\n",
    "\n",
    "plt.show()"
   ]
  },
  {
   "cell_type": "code",
   "execution_count": 195,
   "metadata": {},
   "outputs": [
    {
     "data": {
      "image/png": "[encoded data removed]",
      "text/plain": [
       "<Figure size 360x360 with 1 Axes>"
      ]
     },
     "metadata": {},
     "output_type": "display_data"
    }
   ],
   "source": [
    "# Generate a pie plot showing the distribution of female versus male mice using pandas\n",
    "\n",
    "gender_data_df = pd.DataFrame(clean_merge_data.groupby([\"Sex\"]).count()).reset_index()\n",
    "gender_data_df\n",
    "\n",
    "#only need 2 values in the dataframe for the pie graph since we only have 2 genders\n",
    "gender_data_df = gender_data_df[['Sex', 'Mouse ID']]\n",
    "gender_data_df\n",
    "\n",
    "#https://pandas.pydata.org/pandas-docs/stable/reference/api/pandas.DataFrame.plot.pie.html\n",
    "plot_pie = gender_data_df.plot.pie(y='Mouse ID', figsize=(5,5))\n",
    "plt.show()\n",
    "\n"
   ]
  },
  {
   "cell_type": "code",
   "execution_count": 196,
   "metadata": {},
   "outputs": [
    {
     "data": {
      "image/png": "[encoded data removed]",
      "text/plain": [
       "<Figure size 432x288 with 1 Axes>"
      ]
     },
     "metadata": {},
     "output_type": "display_data"
    }
   ],
   "source": [
    "\n",
    "# Generate a pie plot showing the distribution of female versus male mice using pyplot\n",
    "#https://datatofish.com/pie-chart-matplotlib/\n",
    "my_labels = 'Male', 'Female'\n",
    "plt.pie(gender_data_df[\"Mouse ID\"], labels= my_labels, autopct='%1.1f%%')\n",
    "plt.axis('equal')\n",
    "plt.show()\n"
   ]
  },
  {
   "cell_type": "markdown",
   "metadata": {},
   "source": [
    "## Quartiles, Outliers and Boxplots"
   ]
  },
  {
   "cell_type": "code",
   "execution_count": 197,
   "metadata": {},
   "outputs": [],
   "source": [
    "# Calculate the final tumor volume of each mouse across four of the treatment regimens:  \n",
    "# Capomulin, Ramicane, Infubinol, and Ceftamin\n",
    "\n",
    "Capomulin_df = clean_merge_data.loc[clean_merge_data[\"Drug Regimen\"] == \"Capomulin\",:]\n",
    "Ramicane_df = clean_merge_data.loc[clean_merge_data[\"Drug Regimen\"] == \"Ramicane\", :]\n",
    "Infubinol_df = clean_merge_data.loc[clean_merge_data[\"Drug Regimen\"] == \"Infubinol\", :]\n",
    "Ceftamin_df = clean_merge_data.loc[clean_merge_data[\"Drug Regimen\"] == \"Ceftamin\", :]\n",
    "\n",
    "\n",
    "# Start by getting the last (greatest) timepoint for each mouse\n",
    "Capomulin_greatest = Capomulin_df.groupby('Mouse ID').max()['Timepoint']\n",
    "Ramicane_greatest = Ramicane_df.groupby('Mouse ID').max()['Timepoint']\n",
    "Infubinol_greatest = Infubinol_df.groupby('Mouse ID').max()['Timepoint']\n",
    "Ceftamin_greatest = Ceftamin_df.groupby('Mouse ID').max()['Timepoint']"
   ]
  },
  {
   "cell_type": "code",
   "execution_count": 198,
   "metadata": {},
   "outputs": [
    {
     "name": "stdout",
     "output_type": "stream",
     "text": [
      "Capomulin tumors Lower Quartile (25%): 41.58152074\n",
      "Capomulin tumors Upper Quartile (75%): 67.94212107\n",
      "Capomulin tumors IQR: 26.360600329999997\n",
      "Capomulin tumors: 61.43389223 \n",
      "Values below 2.0406202450000066 could be outliers.\n",
      "Values above 107.483021565 could be outliers.\n",
      "===============================================\n",
      "Ramicane tumors Lower Quartile (25%): 41.58152074\n",
      "Ramicane tumors Upper Quartile (75%): 67.68556862\n",
      "Ramicane tumors IQR: 26.104047879999996\n",
      "Ramicane tumors: 60.91876652 \n",
      "Values below 2.425448920000008 could be outliers.\n",
      "Values above 106.84164043999999 could be outliers.\n",
      "===============================================\n",
      "Infubinol tumors Lower Quartile (25%): 45.656978499999994\n",
      "Infubinol tumors Upper Quartile (75%): 61.19038663\n",
      "Infubinol tumors IQR: 15.533408130000005\n",
      "Infubinol tumors: 52.458270535 \n",
      "Values below 22.356866304999986 could be outliers.\n",
      "Values above 84.490498825 could be outliers.\n",
      "===============================================\n",
      "Ceftamin tumors Lower Quartile (25%): 45.0\n",
      "Ceftamin tumors Upper Quartile (75%): 62.67075904\n",
      "Ceftamin tumors IQR: 17.67075904\n",
      "Ceftamin tumors: 48.01878792 \n",
      "Values below 18.49386144 could be outliers.\n",
      "Values above 89.1768976 could be outliers.\n"
     ]
    }
   ],
   "source": [
    "#calculate quartiles and IQR for Capomulin\n",
    "Capomulin_last = Capomulin_df.groupby('Mouse ID').max()['Timepoint']\n",
    "Capomulin_volume = pd.DataFrame(Capomulin_greatest)\n",
    "Capomulin_merge_data = pd.merge(Capomulin_volume, clean_merge_data, on=(\"Timepoint\"),how=\"left\")\n",
    "Capomulin_merge_data.head()\n",
    "\n",
    "\n",
    "tumors_for_Capomulin = Capomulin_merge_data[\"Tumor Volume (mm3)\"]\n",
    "\n",
    "quartiles = tumors_for_Capomulin.quantile([.25,.5,.75])\n",
    "lowerq = quartiles[0.25]\n",
    "upperq = quartiles[0.75]\n",
    "iqr = upperq-lowerq\n",
    "\n",
    "\n",
    "print(f\"Capomulin tumors Lower Quartile (25%): {lowerq}\")\n",
    "print(f\"Capomulin tumors Upper Quartile (75%): {upperq}\")\n",
    "print(f\"Capomulin tumors IQR: {iqr}\")\n",
    "print(f\"Capomulin tumors: {quartiles[0.5]} \")\n",
    "\n",
    "lower_bound = lowerq - (1.5*iqr)\n",
    "upper_bound = upperq + (1.5*iqr)\n",
    "\n",
    "print(f\"Values below {lower_bound} could be outliers.\")\n",
    "print(f\"Values above {upper_bound} could be outliers.\")\n",
    "\n",
    "print(\"===============================================\")\n",
    "\n",
    "Ramicane_last = Ramicane_df.groupby('Mouse ID').max()['Timepoint']\n",
    "Ramicane_volume = pd.DataFrame(Ramicane_greatest)\n",
    "Ramicane_merge_data = pd.merge(Ramicane_volume, clean_merge_data, on=(\"Timepoint\"),how=\"left\")\n",
    "Ramicane_merge_data.head()\n",
    "\n",
    "\n",
    "tumors_for_Ramicane = Ramicane_merge_data[\"Tumor Volume (mm3)\"]\n",
    "\n",
    "quartiles_Ramicane = tumors_for_Ramicane.quantile([.25,.5,.75])\n",
    "lowerq_Ramicane = quartiles_Ramicane[0.25]\n",
    "upperq_Ramicane = quartiles_Ramicane[0.75]\n",
    "iqr_Ramicane = upperq_Ramicane-lowerq_Ramicane\n",
    "\n",
    "\n",
    "print(f\"Ramicane tumors Lower Quartile (25%): {lowerq_Ramicane}\")\n",
    "print(f\"Ramicane tumors Upper Quartile (75%): {upperq_Ramicane}\")\n",
    "print(f\"Ramicane tumors IQR: {iqr_Ramicane}\")\n",
    "print(f\"Ramicane tumors: {quartiles_Ramicane[0.5]} \")\n",
    "\n",
    "lower_bound_Ramicane = lowerq_Ramicane - (1.5*iqr_Ramicane)\n",
    "upper_bound_Ramicane = upperq_Ramicane + (1.5*iqr_Ramicane)\n",
    "\n",
    "print(f\"Values below {lower_bound_Ramicane} could be outliers.\")\n",
    "print(f\"Values above {upper_bound_Ramicane} could be outliers.\")\n",
    "\n",
    "print(\"===============================================\")\n",
    "\n",
    "Infubinol_last = Infubinol_df.groupby('Mouse ID').max()['Timepoint']\n",
    "Infubinol_volume = pd.DataFrame(Infubinol_greatest)\n",
    "Infubinol_merge_data = pd.merge(Infubinol_volume, clean_merge_data, on=(\"Timepoint\"),how=\"left\")\n",
    "Infubinol_merge_data.head()\n",
    "\n",
    "\n",
    "tumors_for_Infubinol = Infubinol_merge_data[\"Tumor Volume (mm3)\"]\n",
    "\n",
    "quartiles_Infubinol = tumors_for_Infubinol.quantile([.25,.5,.75])\n",
    "lowerq_Infubinol = quartiles_Infubinol[0.25]\n",
    "upperq_Infubinol = quartiles_Infubinol[0.75]\n",
    "iqr_Infubinol = upperq_Infubinol-lowerq_Infubinol\n",
    "\n",
    "\n",
    "print(f\"Infubinol tumors Lower Quartile (25%): {lowerq_Infubinol}\")\n",
    "print(f\"Infubinol tumors Upper Quartile (75%): {upperq_Infubinol}\")\n",
    "print(f\"Infubinol tumors IQR: {iqr_Infubinol}\")\n",
    "print(f\"Infubinol tumors: {quartiles_Infubinol[0.5]} \")\n",
    "\n",
    "lower_bound_Infubinol = lowerq_Infubinol - (1.5*iqr_Infubinol)\n",
    "upper_bound_Infubinol = upperq_Infubinol + (1.5*iqr_Infubinol)\n",
    "\n",
    "print(f\"Values below {lower_bound_Infubinol} could be outliers.\")\n",
    "print(f\"Values above {upper_bound_Infubinol} could be outliers.\")\n",
    "\n",
    "print(\"===============================================\")\n",
    "\n",
    "Ceftamin_last = Ceftamin_df.groupby('Mouse ID').max()['Timepoint']\n",
    "Ceftamin_volume = pd.DataFrame(Ceftamin_greatest)\n",
    "Ceftamin_merge_data = pd.merge(Ceftamin_volume, clean_merge_data, on=(\"Timepoint\"),how=\"left\")\n",
    "Ceftamin_merge_data.head()\n",
    "\n",
    "\n",
    "tumors_for_Ceftamin = Ceftamin_merge_data[\"Tumor Volume (mm3)\"]\n",
    "\n",
    "quartiles_Ceftamin = tumors_for_Ceftamin.quantile([.25,.5,.75])\n",
    "lowerq_Ceftamin = quartiles_Ceftamin[0.25]\n",
    "upperq_Ceftamin = quartiles_Ceftamin[0.75]\n",
    "iqr_Ceftamin = upperq_Ceftamin-lowerq_Ceftamin\n",
    "\n",
    "\n",
    "print(f\"Ceftamin tumors Lower Quartile (25%): {lowerq_Ceftamin}\")\n",
    "print(f\"Ceftamin tumors Upper Quartile (75%): {upperq_Ceftamin}\")\n",
    "print(f\"Ceftamin tumors IQR: {iqr_Ceftamin}\")\n",
    "print(f\"Ceftamin tumors: {quartiles_Ceftamin[0.5]} \")\n",
    "\n",
    "lower_bound_Ceftamin = lowerq_Ceftamin - (1.5*iqr_Ceftamin)\n",
    "upper_bound_Ceftamin = upperq_Ceftamin + (1.5*iqr_Ceftamin)\n",
    "\n",
    "print(f\"Values below {lower_bound_Ceftamin} could be outliers.\")\n",
    "print(f\"Values above {upper_bound_Ceftamin} could be outliers.\")\n"
   ]
  },
  {
   "cell_type": "code",
   "execution_count": 199,
   "metadata": {},
   "outputs": [
    {
     "name": "stderr",
     "output_type": "stream",
     "text": [
      "/Users/arvindbhamidipati/anaconda/lib/python3.6/site-packages/numpy/core/fromnumeric.py:57: FutureWarning: reshape is deprecated and will raise in a subsequent release. Please use .values.reshape(...) instead\n",
      "  return getattr(obj, method)(*args, **kwds)\n"
     ]
    },
    {
     "data": {
      "image/png": "[encoded data removed]",
      "text/plain": [
       "<Figure size 1080x720 with 1 Axes>"
      ]
     },
     "metadata": {},
     "output_type": "display_data"
    }
   ],
   "source": [
    "# Generate a box plot of the final tumor volume of each mouse across four regimens of interest\n",
    "plot_data = [tumors_for_Capomulin, tumors_for_Ramicane, tumors_for_Infubinol, tumors_for_Ceftamin]\n",
    "Regimen= ['Capomulin', 'Ramicane', 'Infubinol','Ceftamin']\n",
    "\n",
    "#http://blog.bharatbhole.com/creating-boxplots-with-matplotlib/\n",
    "\n",
    "fig, axis = plt.subplots(figsize=(15, 10))\n",
    "axis.set_title('Tumor Volume at Selected Mouse',fontsize =25)\n",
    "axis.set_ylabel('Final Tumor Volume (mm3)',fontsize = 14)\n",
    "axis.set_xlabel('Drug Regimen',fontsize = 14)\n",
    "axis.boxplot(plot_data, labels=Regimen, widths = 0.6, patch_artist=True,vert=True)\n",
    "\n",
    "plt.ylim(10, 80)\n",
    "\n",
    "plt.show()"
   ]
  },
  {
   "cell_type": "markdown",
   "metadata": {},
   "source": [
    "## Line and Scatter Plots"
   ]
  },
  {
   "cell_type": "code",
   "execution_count": 200,
   "metadata": {},
   "outputs": [
    {
     "data": {
      "image/png": "[encoded data removed]",
      "text/plain": [
       "<Figure size 1080x720 with 1 Axes>"
      ]
     },
     "metadata": {},
     "output_type": "display_data"
    }
   ],
   "source": [
    "# Generate a line plot of time point versus tumor volume for a mouse treated with Capomulin\n",
    "Capomulin_line_df = Capomulin_df.loc[Capomulin_df[\"Mouse ID\"] == \"s185\"]\n",
    "Capomulin_line_df\n",
    "\n",
    "xaxis = Capomulin_line_df[\"Timepoint\"]\n",
    "yaxis = Capomulin_line_df[\"Tumor Volume (mm3)\"]\n",
    "\n",
    "fig, axis = plt.subplots(figsize=(15, 10))\n",
    "plt.title('Capomulin treatmeant for Mouse ID: s185')\n",
    "plt.plot(xaxis, yaxis,linewidth=2, markersize=10,marker=\"o\",color=\"green\")\n",
    "plt.xlabel('Timepoint (Days)')\n",
    "plt.ylabel('Tumor Volume (mm3)')\n",
    "\n",
    "plt.show()\n",
    "\n"
   ]
  },
  {
   "cell_type": "code",
   "execution_count": 201,
   "metadata": {},
   "outputs": [
    {
     "data": {
      "image/png": "[encoded data removed]",
      "text/plain": [
       "<Figure size 1080x720 with 1 Axes>"
      ]
     },
     "metadata": {},
     "output_type": "display_data"
    }
   ],
   "source": [
    "# Generate a scatter plot of mouse weight versus average tumor volume for the Capomulin regimen\n",
    "\n",
    "fig, ax = plt.subplots(figsize=(15, 10))\n",
    "mean_volume =Capomulin_df.groupby(['Mouse ID']).mean()\n",
    "\n",
    "\n",
    "plt.scatter(mean_volume['Weight (g)'],mean_volume['Tumor Volume (mm3)'], color=\"orange\")\n",
    "plt.title('Mouse Weight Versus Average Tumor Volume')\n",
    "plt.xlabel('Weight (g)')\n",
    "plt.ylabel('Averag Tumor Volume (mm3)')\n",
    "\n",
    "plt.show()"
   ]
  },
  {
   "cell_type": "markdown",
   "metadata": {},
   "source": [
    "## Correlation and Regression"
   ]
  },
  {
   "cell_type": "code",
   "execution_count": 202,
   "metadata": {},
   "outputs": [
    {
     "name": "stdout",
     "output_type": "stream",
     "text": [
      "The correlation value is 0.8419363424694719\n",
      "The r-squared value is: 0.7088568047708717\n"
     ]
    },
    {
     "data": {
      "image/png": "[encoded data removed]",
      "text/plain": [
       "<Figure size 1080x720 with 1 Axes>"
      ]
     },
     "metadata": {},
     "output_type": "display_data"
    }
   ],
   "source": [
    "# Calculate the correlation coefficient and linear regression model\n",
    "#https://docs.scipy.org/doc/scipy/reference/generated/scipy.stats.pearsonr.html\n",
    "correlation=st.pearsonr(mean_volume[\"Weight (g)\"],mean_volume[\"Tumor Volume (mm3)\"])[0]\n",
    "print(f\"The correlation value is {correlation}\")\n",
    "\n",
    "xaxis = mean_volume['Weight (g)']\n",
    "yaxis = mean_volume['Tumor Volume (mm3)']\n",
    "# for mouse weight and average tumor volume for the Capomulin regimen\n",
    "\n",
    "#https://docs.scipy.org/doc/scipy-0.16.0/reference/generated/scipy.stats.linregress.html\n",
    "(slope, intercept, rvalue, pvalue, stderr) = stats.linregress(xaxis, yaxis)\n",
    "regress_values = xaxis * slope + intercept\n",
    "\n",
    "fig, ax = plt.subplots(figsize=(15, 10))\n",
    "plt.scatter(xaxis,yaxis, color=\"blue\")\n",
    "plt.plot(xaxis,regress_values,\"r-\")\n",
    "plt.title('Regression Graph of Mouse Weight Versus Average Tumor Volume')\n",
    "plt.xlabel('Weight(g)')\n",
    "plt.ylabel('Average Tumore Volume (mm3)')\n",
    "\n",
    "print(f\"The r-squared value is: {rvalue**2}\")\n",
    "plt.show()"
   ]
  },
  {
   "cell_type": "code",
   "execution_count": null,
   "metadata": {},
   "outputs": [],
   "source": []
  }
 ],
 "metadata": {
  "anaconda-cloud": {},
  "kernelspec": {
   "display_name": "Python 3",
   "language": "python",
   "name": "python3"
  },
  "language_info": {
   "codemirror_mode": {
    "name": "ipython",
    "version": 3
   },
   "file_extension": ".py",
   "mimetype": "text/x-python",
   "name": "python",
   "nbconvert_exporter": "python",
   "pygments_lexer": "ipython3",
   "version": "3.6.5"
  }
 },
 "nbformat": 4,
 "nbformat_minor": 2
}
